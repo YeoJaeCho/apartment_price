{
 "cells": [
  {
   "cell_type": "code",
   "execution_count": 1,
   "id": "d2f27805",
   "metadata": {},
   "outputs": [],
   "source": [
    "import pandas as pd \n",
    "import matplotlib.pyplot as plt\n",
    "import seaborn as sns \n",
    "import numpy as np\n",
    "from sklearn.model_selection import train_test_split, cross_val_score, GridSearchCV, RandomizedSearchCV\n",
    "from sklearn.preprocessing import StandardScaler, PolynomialFeatures\n",
    "from sklearn.linear_model import LinearRegression, SGDRegressor, Ridge, Lasso, ElasticNet\n",
    "from sklearn.tree import DecisionTreeRegressor\n",
    "from sklearn.svm import SVR, LinearSVR\n",
    "from sklearn.ensemble import BaggingRegressor, VotingRegressor, GradientBoostingRegressor, RandomForestRegressor\n",
    "from scipy.stats import randint"
   ]
  },
  {
   "cell_type": "code",
   "execution_count": 3,
   "id": "215482d8",
   "metadata": {},
   "outputs": [],
   "source": [
    "apt = pd.read_csv('./apartment_price.csv')\n",
    "\n",
    "train, test = train_test_split(apt, test_size=0.2, random_state = 7916, stratify = apt['gu'])\n",
    "\n",
    "target = test['price'].copy()\n",
    "test = test.drop('price', axis = 1)\n",
    "\n",
    "all_data = pd.concat([train, test], axis = 0, ignore_index = True)\n",
    "\n",
    "drop_features = ['apt_name', 'gu', 'dong', 'transaction_year_month', 'transaction_date', 'year_of_completion', 'commuting_vehicle_sum', \n",
    "                 'day_care_num', 'permission_year', 'park_area', 'one_park_area', 'citypark_area', 'one_citypark_area']\n",
    "all_data = all_data.drop(drop_features, axis = 1)\n",
    "\n",
    "X_train = all_data[~pd.isnull(all_data['price'])]\n",
    "X_test = all_data[pd.isnull(all_data['price'])]\n",
    "\n",
    "y_train = X_train['price']\n",
    "X_train = X_train.drop(['price'], axis = 1)\n",
    "\n",
    "X_test = X_test.drop(['price'], axis = 1)\n",
    "\n",
    "log_y = np.log(y_train)"
   ]
  },
  {
   "cell_type": "markdown",
   "id": "a92f761d",
   "metadata": {},
   "source": [
    "## (9) 랜덤포레스트 (대용)"
   ]
  },
  {
   "cell_type": "markdown",
   "id": "380f8e17",
   "metadata": {},
   "source": [
    "- GridSearchCV 사용해서 파라미터 선택"
   ]
  },
  {
   "cell_type": "code",
   "execution_count": null,
   "id": "38d964df",
   "metadata": {},
   "outputs": [],
   "source": [
    "rnd_forest = RandomForestRegressor(random_state=7916)\n",
    "\n",
    "rf_params = {'n_estimators': [180, 200, 220], 'max_features' : [8, 9, 10], 'max_depth' : [10, 20, 30]}\n",
    "\n",
    "gridsearch_forest = GridSearchCV(rnd_forest, rf_params, scoring = 'neg_mean_squared_error', cv = 5, n_jobs = -1)\n",
    "gridsearch_forest.fit(X_train, log_y)"
   ]
  },
  {
   "cell_type": "code",
   "execution_count": null,
   "id": "a1fe0300",
   "metadata": {},
   "outputs": [],
   "source": [
    "gridsearch_forest.best_params_"
   ]
  },
  {
   "cell_type": "code",
   "execution_count": null,
   "id": "126fc346",
   "metadata": {},
   "outputs": [],
   "source": [
    "cvres = gridsearch_forest.cv_results_\n",
    "\n",
    "for mean_score, params in zip(cvres['mean_test_score'], cvres['params']):\n",
    "    print(-mean_score, params)"
   ]
  },
  {
   "cell_type": "markdown",
   "id": "0e1e1e69",
   "metadata": {},
   "source": [
    "- 랜덤포레스트 모델 ('max_depth': 20, 'max_features': 10, 'n_estimators': 220) mse = 0.0729584701779201"
   ]
  },
  {
   "cell_type": "code",
   "execution_count": null,
   "id": "19ceedc6",
   "metadata": {},
   "outputs": [],
   "source": [
    "best_model_forest = gridsearch_forest.best_estimator_\n",
    "best_model_forest"
   ]
  },
  {
   "cell_type": "code",
   "execution_count": null,
   "id": "1a5e9a41",
   "metadata": {},
   "outputs": [],
   "source": [
    "sorted(zip(best_model_forest.feature_importances_, X_train.columns), reverse = True)"
   ]
  },
  {
   "cell_type": "markdown",
   "id": "ea62041f",
   "metadata": {},
   "source": [
    "## (10) Voting (Ensemble)"
   ]
  },
  {
   "cell_type": "code",
   "execution_count": 4,
   "id": "3260d9c6",
   "metadata": {},
   "outputs": [],
   "source": [
    "lin_reg = LinearRegression()\n",
    "ridge = Ridge(alpha=0.1, random_state=7916)\n",
    "rnd_forest = RandomForestRegressor(max_depth=20, max_features=10, n_estimators=220, random_state=7916)\n",
    "svm = SVR()"
   ]
  },
  {
   "cell_type": "code",
   "execution_count": 7,
   "id": "8765a5b3",
   "metadata": {},
   "outputs": [
    {
     "data": {
      "text/plain": [
       "0.1333027429108106"
      ]
     },
     "execution_count": 7,
     "metadata": {},
     "output_type": "execute_result"
    }
   ],
   "source": [
    "voting_reg = VotingRegressor(estimators = [('lin', lin_reg), ('rid', ridge), ('rnd', rnd_forest), ('svmr', svm)],\n",
    "                n_jobs=-1)\n",
    "\n",
    "scores = cross_val_score(voting_reg, X_train, log_y, scoring = 'neg_mean_squared_error', cv = 2)\n",
    "-scores.mean()"
   ]
  },
  {
   "cell_type": "markdown",
   "id": "ed8e3f33",
   "metadata": {},
   "source": [
    "- Voting 모델 mse =  0.1333027429108106"
   ]
  }
 ],
 "metadata": {
  "kernelspec": {
   "display_name": "Python 3 (ipykernel)",
   "language": "python",
   "name": "python3"
  },
  "language_info": {
   "codemirror_mode": {
    "name": "ipython",
    "version": 3
   },
   "file_extension": ".py",
   "mimetype": "text/x-python",
   "name": "python",
   "nbconvert_exporter": "python",
   "pygments_lexer": "ipython3",
   "version": "3.9.12"
  }
 },
 "nbformat": 4,
 "nbformat_minor": 5
}
