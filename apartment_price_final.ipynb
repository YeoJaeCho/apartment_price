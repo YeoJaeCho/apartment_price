{
 "cells": [
  {
   "cell_type": "code",
   "execution_count": 1,
   "id": "f67a4e33",
   "metadata": {},
   "outputs": [],
   "source": [
    "import pandas as pd \n",
    "import matplotlib.pyplot as plt\n",
    "import seaborn as sns \n",
    "import numpy as np\n",
    "from sklearn.model_selection import train_test_split, cross_val_score, GridSearchCV, RandomizedSearchCV\n",
    "from sklearn.preprocessing import StandardScaler, PolynomialFeatures\n",
    "from sklearn.linear_model import LinearRegression, SGDRegressor, Ridge, Lasso, ElasticNet\n",
    "from sklearn.tree import DecisionTreeRegressor\n",
    "from sklearn.svm import SVR, LinearSVR\n",
    "from sklearn.ensemble import BaggingRegressor, VotingRegressor, GradientBoostingRegressor, RandomForestRegressor\n",
    "from scipy.stats import randint\n",
    "from sklearn.metrics import mean_squared_error"
   ]
  },
  {
   "cell_type": "code",
   "execution_count": 2,
   "id": "1d250cb0",
   "metadata": {},
   "outputs": [],
   "source": [
    "apt = pd.read_csv('./apartment_price.csv')\n",
    "\n",
    "train, test = train_test_split(apt, test_size=0.2, random_state = 7916, stratify = apt['gu'])\n",
    "\n",
    "target = test['price'].copy()\n",
    "test = test.drop('price', axis = 1)\n",
    "\n",
    "all_data = pd.concat([train, test], axis = 0, ignore_index = True)\n",
    "\n",
    "drop_features = ['apt_name', 'gu', 'dong', 'transaction_year_month', 'transaction_date', 'year_of_completion', 'commuting_vehicle_sum', \n",
    "                 'day_care_num', 'permission_year', 'park_area', 'one_park_area', 'citypark_area', 'one_citypark_area']\n",
    "all_data = all_data.drop(drop_features, axis = 1)\n",
    "\n",
    "X_train = all_data[~pd.isnull(all_data['price'])]\n",
    "X_test = all_data[pd.isnull(all_data['price'])]\n",
    "\n",
    "y_train = X_train['price']\n",
    "X_train = X_train.drop(['price'], axis = 1)\n",
    "\n",
    "X_test = X_test.drop(['price'], axis = 1)\n",
    "\n",
    "log_y = np.log(y_train)"
   ]
  },
  {
   "cell_type": "markdown",
   "id": "644cb58e",
   "metadata": {},
   "source": [
    "# Final model Test"
   ]
  },
  {
   "cell_type": "markdown",
   "id": "3c39f572",
   "metadata": {},
   "source": [
    "- train 데이터로 fitting 해본 결과 가장 성능이 좋다고 판단되는 모델인 Gradient Boosting 모델을 최종 모델로 선택\n",
    "- 최종 Gradient Boosting 모델 hyper parameter ('learning_rate': 0.04, 'max_depth': 8, 'n_estimators': 1500, 'subsample': 0.5)"
   ]
  },
  {
   "cell_type": "code",
   "execution_count": 7,
   "id": "a3ac9cc1",
   "metadata": {},
   "outputs": [],
   "source": [
    "log_target = np.log(target)"
   ]
  },
  {
   "cell_type": "code",
   "execution_count": 5,
   "id": "fc07900d",
   "metadata": {},
   "outputs": [],
   "source": [
    "gbrt = GradientBoostingRegressor(learning_rate=0.04, max_depth=8, n_estimators=1500, subsample=0.5, random_state=7916)"
   ]
  },
  {
   "cell_type": "code",
   "execution_count": 6,
   "id": "db1e5df6",
   "metadata": {},
   "outputs": [
    {
     "data": {
      "text/plain": [
       "GradientBoostingRegressor(learning_rate=0.04, max_depth=8, n_estimators=1500,\n",
       "                          random_state=7916, subsample=0.5)"
      ]
     },
     "execution_count": 6,
     "metadata": {},
     "output_type": "execute_result"
    }
   ],
   "source": [
    "gbrt.fit(X_train, log_y)"
   ]
  },
  {
   "cell_type": "code",
   "execution_count": 10,
   "id": "f91c0da6",
   "metadata": {},
   "outputs": [],
   "source": [
    "y_pred = gbrt.predict(X_test)"
   ]
  },
  {
   "cell_type": "code",
   "execution_count": 14,
   "id": "f7f8791c",
   "metadata": {},
   "outputs": [
    {
     "data": {
      "text/plain": [
       "0.06930499418814444"
      ]
     },
     "execution_count": 14,
     "metadata": {},
     "output_type": "execute_result"
    }
   ],
   "source": [
    "mean_squared_error(log_target, y_pred)"
   ]
  },
  {
   "cell_type": "markdown",
   "id": "fd0a8dfe",
   "metadata": {},
   "source": [
    "-  최종 mse 값 : 0.06930499418814444"
   ]
  },
  {
   "cell_type": "code",
   "execution_count": 53,
   "id": "bde65f5a",
   "metadata": {},
   "outputs": [],
   "source": [
    "data = np.c_[(log_target, y_pred)]"
   ]
  },
  {
   "cell_type": "code",
   "execution_count": 57,
   "id": "b311becd",
   "metadata": {
    "scrolled": true
   },
   "outputs": [],
   "source": [
    "data = pd.DataFrame(data, columns=['log_target', 'y_pred'])"
   ]
  },
  {
   "cell_type": "code",
   "execution_count": 82,
   "id": "a902651a",
   "metadata": {},
   "outputs": [
    {
     "data": {
      "text/html": [
       "<div>\n",
       "<style scoped>\n",
       "    .dataframe tbody tr th:only-of-type {\n",
       "        vertical-align: middle;\n",
       "    }\n",
       "\n",
       "    .dataframe tbody tr th {\n",
       "        vertical-align: top;\n",
       "    }\n",
       "\n",
       "    .dataframe thead th {\n",
       "        text-align: right;\n",
       "    }\n",
       "</style>\n",
       "<table border=\"1\" class=\"dataframe\">\n",
       "  <thead>\n",
       "    <tr style=\"text-align: right;\">\n",
       "      <th></th>\n",
       "      <th>log_target</th>\n",
       "      <th>y_pred</th>\n",
       "    </tr>\n",
       "  </thead>\n",
       "  <tbody>\n",
       "    <tr>\n",
       "      <th>0</th>\n",
       "      <td>11.138959</td>\n",
       "      <td>11.345376</td>\n",
       "    </tr>\n",
       "    <tr>\n",
       "      <th>1</th>\n",
       "      <td>11.482466</td>\n",
       "      <td>11.436821</td>\n",
       "    </tr>\n",
       "    <tr>\n",
       "      <th>2</th>\n",
       "      <td>11.678440</td>\n",
       "      <td>11.964233</td>\n",
       "    </tr>\n",
       "    <tr>\n",
       "      <th>3</th>\n",
       "      <td>11.407565</td>\n",
       "      <td>11.612626</td>\n",
       "    </tr>\n",
       "    <tr>\n",
       "      <th>4</th>\n",
       "      <td>11.348051</td>\n",
       "      <td>10.931428</td>\n",
       "    </tr>\n",
       "    <tr>\n",
       "      <th>...</th>\n",
       "      <td>...</td>\n",
       "      <td>...</td>\n",
       "    </tr>\n",
       "    <tr>\n",
       "      <th>64336</th>\n",
       "      <td>10.976782</td>\n",
       "      <td>11.082403</td>\n",
       "    </tr>\n",
       "    <tr>\n",
       "      <th>64337</th>\n",
       "      <td>10.993732</td>\n",
       "      <td>11.189953</td>\n",
       "    </tr>\n",
       "    <tr>\n",
       "      <th>64338</th>\n",
       "      <td>10.896739</td>\n",
       "      <td>11.097455</td>\n",
       "    </tr>\n",
       "    <tr>\n",
       "      <th>64339</th>\n",
       "      <td>10.922335</td>\n",
       "      <td>11.235841</td>\n",
       "    </tr>\n",
       "    <tr>\n",
       "      <th>64340</th>\n",
       "      <td>11.016988</td>\n",
       "      <td>11.182772</td>\n",
       "    </tr>\n",
       "  </tbody>\n",
       "</table>\n",
       "<p>64341 rows × 2 columns</p>\n",
       "</div>"
      ],
      "text/plain": [
       "       log_target     y_pred\n",
       "0       11.138959  11.345376\n",
       "1       11.482466  11.436821\n",
       "2       11.678440  11.964233\n",
       "3       11.407565  11.612626\n",
       "4       11.348051  10.931428\n",
       "...           ...        ...\n",
       "64336   10.976782  11.082403\n",
       "64337   10.993732  11.189953\n",
       "64338   10.896739  11.097455\n",
       "64339   10.922335  11.235841\n",
       "64340   11.016988  11.182772\n",
       "\n",
       "[64341 rows x 2 columns]"
      ]
     },
     "execution_count": 82,
     "metadata": {},
     "output_type": "execute_result"
    }
   ],
   "source": [
    "data"
   ]
  },
  {
   "cell_type": "code",
   "execution_count": 80,
   "id": "c7832ace",
   "metadata": {},
   "outputs": [
    {
     "data": {
      "image/png": "[encoded data removed]",
      "text/plain": [
       "<Figure size 432x288 with 1 Axes>"
      ]
     },
     "metadata": {
      "needs_background": "light"
     },
     "output_type": "display_data"
    }
   ],
   "source": [
    "# 최종 종속 변수와 예측값의 차이 시각화\n",
    "plt.plot(data.iloc[:50, 0], label = 'log_target')\n",
    "plt.plot(data.iloc[:50, 1], label = 'y_pred')\n",
    "plt.legend()\n",
    "plt.show()"
   ]
  },
  {
   "cell_type": "markdown",
   "id": "fe89c5ee",
   "metadata": {},
   "source": [
    "## (추가) Best 모델은 아니지만 성능이 괜찮았던 모델 Test"
   ]
  },
  {
   "cell_type": "markdown",
   "id": "1cc3d71b",
   "metadata": {},
   "source": [
    "### (1) 랜덤포레스트 모델 \n",
    "- hyper parameter {'max_depth': 20, 'max_features': 10, 'n_estimators': 220}"
   ]
  },
  {
   "cell_type": "code",
   "execution_count": 15,
   "id": "02803fdf",
   "metadata": {},
   "outputs": [],
   "source": [
    "rnd_forest = RandomForestRegressor(n_estimators=220, max_depth=20, max_features=10, random_state=7916)"
   ]
  },
  {
   "cell_type": "code",
   "execution_count": 16,
   "id": "0f27746a",
   "metadata": {},
   "outputs": [
    {
     "data": {
      "text/plain": [
       "RandomForestRegressor(max_depth=20, max_features=10, n_estimators=220,\n",
       "                      random_state=7916)"
      ]
     },
     "execution_count": 16,
     "metadata": {},
     "output_type": "execute_result"
    }
   ],
   "source": [
    "rnd_forest.fit(X_train, log_y)"
   ]
  },
  {
   "cell_type": "code",
   "execution_count": 18,
   "id": "f01a6808",
   "metadata": {},
   "outputs": [],
   "source": [
    "y_pred = rnd_forest.predict(X_test)"
   ]
  },
  {
   "cell_type": "code",
   "execution_count": 21,
   "id": "724d917e",
   "metadata": {},
   "outputs": [
    {
     "data": {
      "text/plain": [
       "0.07015279714123512"
      ]
     },
     "execution_count": 21,
     "metadata": {},
     "output_type": "execute_result"
    }
   ],
   "source": [
    "mean_squared_error(log_target, y_pred)"
   ]
  },
  {
   "cell_type": "markdown",
   "id": "3a0b8ad5",
   "metadata": {},
   "source": [
    "### (2) 선형 회귀 모델"
   ]
  },
  {
   "cell_type": "code",
   "execution_count": 15,
   "id": "20d6749a",
   "metadata": {},
   "outputs": [],
   "source": [
    "lin_reg = LinearRegression()"
   ]
  },
  {
   "cell_type": "code",
   "execution_count": 16,
   "id": "4f78bbb3",
   "metadata": {},
   "outputs": [
    {
     "data": {
      "text/plain": [
       "LinearRegression()"
      ]
     },
     "execution_count": 16,
     "metadata": {},
     "output_type": "execute_result"
    }
   ],
   "source": [
    "lin_reg.fit(X_train, log_y)"
   ]
  },
  {
   "cell_type": "code",
   "execution_count": 17,
   "id": "5d3292c2",
   "metadata": {},
   "outputs": [],
   "source": [
    "y_pred = lin_reg.predict(X_test)"
   ]
  },
  {
   "cell_type": "code",
   "execution_count": 18,
   "id": "9ac0c450",
   "metadata": {},
   "outputs": [
    {
     "data": {
      "text/plain": [
       "0.17907320704468227"
      ]
     },
     "execution_count": 18,
     "metadata": {},
     "output_type": "execute_result"
    }
   ],
   "source": [
    "mean_squared_error(log_target, y_pred)"
   ]
  },
  {
   "cell_type": "markdown",
   "id": "50e6ed5c",
   "metadata": {},
   "source": [
    "### (3) 다항 회귀 모델 (정규방정식 이용)"
   ]
  },
  {
   "cell_type": "code",
   "execution_count": 27,
   "id": "9ac80234",
   "metadata": {},
   "outputs": [],
   "source": [
    "poly_features = PolynomialFeatures(degree=2, include_bias=False)\n",
    "X_train_poly = poly_features.fit_transform(X_train)\n",
    "X_train.shape, X_train_poly.shape\n",
    "\n",
    "lin_reg_poly = LinearRegression()"
   ]
  },
  {
   "cell_type": "code",
   "execution_count": 28,
   "id": "407bd880",
   "metadata": {},
   "outputs": [
    {
     "data": {
      "text/plain": [
       "LinearRegression()"
      ]
     },
     "execution_count": 28,
     "metadata": {},
     "output_type": "execute_result"
    }
   ],
   "source": [
    "lin_reg_poly.fit(X_train_poly, log_y)"
   ]
  },
  {
   "cell_type": "code",
   "execution_count": 29,
   "id": "cfe2f886",
   "metadata": {},
   "outputs": [],
   "source": [
    "X_test_poly = poly_features.fit_transform(X_test)"
   ]
  },
  {
   "cell_type": "code",
   "execution_count": 31,
   "id": "7be315dd",
   "metadata": {},
   "outputs": [],
   "source": [
    "y_pred = lin_reg_poly.predict(X_test_poly)"
   ]
  },
  {
   "cell_type": "code",
   "execution_count": 32,
   "id": "4979ae81",
   "metadata": {},
   "outputs": [
    {
     "data": {
      "text/plain": [
       "0.13370975594612017"
      ]
     },
     "execution_count": 32,
     "metadata": {},
     "output_type": "execute_result"
    }
   ],
   "source": [
    "mean_squared_error(log_target, y_pred)"
   ]
  },
  {
   "cell_type": "markdown",
   "id": "8c9b6a5a",
   "metadata": {},
   "source": [
    "### (4) ridge 모델 \n",
    "- alpha = 0.1 "
   ]
  },
  {
   "cell_type": "code",
   "execution_count": 23,
   "id": "797219c0",
   "metadata": {},
   "outputs": [],
   "source": [
    "ridge = Ridge(alpha=0.1, random_state=7916)"
   ]
  },
  {
   "cell_type": "code",
   "execution_count": 24,
   "id": "ced17553",
   "metadata": {},
   "outputs": [
    {
     "data": {
      "text/plain": [
       "Ridge(alpha=0.1, random_state=7916)"
      ]
     },
     "execution_count": 24,
     "metadata": {},
     "output_type": "execute_result"
    }
   ],
   "source": [
    "ridge.fit(X_train, log_y)"
   ]
  },
  {
   "cell_type": "code",
   "execution_count": 25,
   "id": "0d4e867f",
   "metadata": {},
   "outputs": [],
   "source": [
    "y_pred = ridge.predict(X_test)"
   ]
  },
  {
   "cell_type": "code",
   "execution_count": 26,
   "id": "ab334aa9",
   "metadata": {},
   "outputs": [
    {
     "data": {
      "text/plain": [
       "0.17907321527937733"
      ]
     },
     "execution_count": 26,
     "metadata": {},
     "output_type": "execute_result"
    }
   ],
   "source": [
    "mean_squared_error(log_target, y_pred)"
   ]
  },
  {
   "cell_type": "markdown",
   "id": "b3ed863c",
   "metadata": {},
   "source": [
    "### (5)  lasso 모델 \n",
    "- alpha = 0.0001"
   ]
  },
  {
   "cell_type": "code",
   "execution_count": 33,
   "id": "5cc68f11",
   "metadata": {},
   "outputs": [],
   "source": [
    "lasso = Lasso(alpha=0.0001, random_state=7916)"
   ]
  },
  {
   "cell_type": "code",
   "execution_count": 34,
   "id": "30ef370b",
   "metadata": {},
   "outputs": [
    {
     "data": {
      "text/plain": [
       "Lasso(alpha=0.0001, random_state=7916)"
      ]
     },
     "execution_count": 34,
     "metadata": {},
     "output_type": "execute_result"
    }
   ],
   "source": [
    "lasso.fit(X_train, log_y)"
   ]
  },
  {
   "cell_type": "code",
   "execution_count": 35,
   "id": "1ecdd321",
   "metadata": {},
   "outputs": [],
   "source": [
    "y_pred = lasso.predict(X_test)"
   ]
  },
  {
   "cell_type": "code",
   "execution_count": 36,
   "id": "348b367e",
   "metadata": {},
   "outputs": [
    {
     "data": {
      "text/plain": [
       "0.179079231813746"
      ]
     },
     "execution_count": 36,
     "metadata": {},
     "output_type": "execute_result"
    }
   ],
   "source": [
    "mean_squared_error(log_target, y_pred)"
   ]
  },
  {
   "cell_type": "markdown",
   "id": "36fc0ca4",
   "metadata": {},
   "source": [
    "### (6) ElasticNet 모델 \n",
    "- alpha = 0.001"
   ]
  },
  {
   "cell_type": "code",
   "execution_count": 37,
   "id": "675959e5",
   "metadata": {},
   "outputs": [],
   "source": [
    "elastic = ElasticNet(alpha=0.001, random_state=7916)"
   ]
  },
  {
   "cell_type": "code",
   "execution_count": 38,
   "id": "e298e78e",
   "metadata": {},
   "outputs": [
    {
     "data": {
      "text/plain": [
       "ElasticNet(alpha=0.001, random_state=7916)"
      ]
     },
     "execution_count": 38,
     "metadata": {},
     "output_type": "execute_result"
    }
   ],
   "source": [
    "elastic.fit(X_train, log_y)"
   ]
  },
  {
   "cell_type": "code",
   "execution_count": 39,
   "id": "67431661",
   "metadata": {},
   "outputs": [],
   "source": [
    "y_pred = elastic.predict(X_test)"
   ]
  },
  {
   "cell_type": "code",
   "execution_count": 40,
   "id": "ff7bc30f",
   "metadata": {},
   "outputs": [
    {
     "data": {
      "text/plain": [
       "0.17922363511430414"
      ]
     },
     "execution_count": 40,
     "metadata": {},
     "output_type": "execute_result"
    }
   ],
   "source": [
    "mean_squared_error(log_target, y_pred)"
   ]
  },
  {
   "cell_type": "markdown",
   "id": "9c4c190d",
   "metadata": {},
   "source": [
    "### (7) 결정트리 모델 \n",
    "- hyper parameter {max_depth: 15, max_features: 10}"
   ]
  },
  {
   "cell_type": "code",
   "execution_count": 41,
   "id": "7b0067b1",
   "metadata": {},
   "outputs": [],
   "source": [
    "tree_reg = DecisionTreeRegressor(random_state=7916, max_depth=15, max_features=10)"
   ]
  },
  {
   "cell_type": "code",
   "execution_count": 42,
   "id": "8b39d46e",
   "metadata": {},
   "outputs": [
    {
     "data": {
      "text/plain": [
       "DecisionTreeRegressor(max_depth=15, max_features=10, random_state=7916)"
      ]
     },
     "execution_count": 42,
     "metadata": {},
     "output_type": "execute_result"
    }
   ],
   "source": [
    "tree_reg.fit(X_train, log_y)"
   ]
  },
  {
   "cell_type": "code",
   "execution_count": 43,
   "id": "4fe57909",
   "metadata": {},
   "outputs": [],
   "source": [
    "y_pred = tree_reg.predict(X_test)"
   ]
  },
  {
   "cell_type": "code",
   "execution_count": 44,
   "id": "a676bce2",
   "metadata": {},
   "outputs": [
    {
     "data": {
      "text/plain": [
       "0.0808250427113568"
      ]
     },
     "execution_count": 44,
     "metadata": {},
     "output_type": "execute_result"
    }
   ],
   "source": [
    "mean_squared_error(log_target, y_pred)"
   ]
  },
  {
   "cell_type": "markdown",
   "id": "2c45f1e6",
   "metadata": {},
   "source": [
    "### (8) Votting 모델\n",
    "- hyper parameter (by random forest) {max_depth=20, max_features=10, n_estimators=220}"
   ]
  },
  {
   "cell_type": "code",
   "execution_count": null,
   "id": "013b3d4c",
   "metadata": {},
   "outputs": [],
   "source": [
    "lin_reg = LinearRegression()\n",
    "ridge = Ridge(alpha=0.1, random_state=7916)\n",
    "rnd_forest = RandomForestRegressor(max_depth=20, max_features=10, n_estimators=220, random_state=7916)\n",
    "svm = SVR()\n",
    "\n",
    "voting_reg = VotingRegressor(estimators = [('lin', lin_reg), ('rid', ridge), ('rnd', rnd_forest), ('svmr', svm)], n_jobs=-1)"
   ]
  },
  {
   "cell_type": "code",
   "execution_count": null,
   "id": "5062a1fc",
   "metadata": {},
   "outputs": [],
   "source": [
    "voting_reg.fit(X_train, log_y)"
   ]
  },
  {
   "cell_type": "code",
   "execution_count": null,
   "id": "8036644a",
   "metadata": {},
   "outputs": [],
   "source": [
    "y_pred = voting_reg.predict(X_test)"
   ]
  },
  {
   "cell_type": "code",
   "execution_count": null,
   "id": "5f63d187",
   "metadata": {},
   "outputs": [],
   "source": [
    "mean_squared_error(log_target, y_pred)"
   ]
  },
  {
   "cell_type": "markdown",
   "id": "fb2a0dab",
   "metadata": {},
   "source": [
    "### (9) Bagging 모델\n",
    "- hyper parameter (by random forest) {max_depth=20, max_features=10, n_estimators=220}"
   ]
  },
  {
   "cell_type": "code",
   "execution_count": null,
   "id": "0f37c26b",
   "metadata": {},
   "outputs": [],
   "source": [
    "rnd_forest = RandomForestRegressor(max_depth=20, max_features=10, n_estimators=220, random_state=7916)\n",
    "\n",
    "bag_reg = BaggingRegressor(rnd_forest, n_jobs=-1, random_state=7916)"
   ]
  },
  {
   "cell_type": "code",
   "execution_count": null,
   "id": "6b6beb07",
   "metadata": {},
   "outputs": [],
   "source": [
    "bag_reg.fit(X_train, log_y)"
   ]
  },
  {
   "cell_type": "code",
   "execution_count": null,
   "id": "a1e8809a",
   "metadata": {},
   "outputs": [],
   "source": [
    "y_pred = bag_reg.predict(X_test)"
   ]
  },
  {
   "cell_type": "code",
   "execution_count": null,
   "id": "7eae0079",
   "metadata": {},
   "outputs": [],
   "source": [
    "mean_squared_error(log_target, y_pred)"
   ]
  },
  {
   "cell_type": "markdown",
   "id": "cfb62ce4",
   "metadata": {},
   "source": [
    "### (10) SVR"
   ]
  },
  {
   "cell_type": "code",
   "execution_count": 3,
   "id": "ad855e78",
   "metadata": {},
   "outputs": [],
   "source": [
    "lin_svr = LinearSVR()"
   ]
  },
  {
   "cell_type": "code",
   "execution_count": 4,
   "id": "cb18e9a7",
   "metadata": {},
   "outputs": [
    {
     "name": "stderr",
     "output_type": "stream",
     "text": [
      "C:\\Users\\Playdata\\anaconda3\\lib\\site-packages\\sklearn\\svm\\_base.py:1206: ConvergenceWarning: Liblinear failed to converge, increase the number of iterations.\n",
      "  warnings.warn(\n"
     ]
    },
    {
     "data": {
      "text/plain": [
       "LinearSVR()"
      ]
     },
     "execution_count": 4,
     "metadata": {},
     "output_type": "execute_result"
    }
   ],
   "source": [
    "lin_svr.fit(X_train, log_y)"
   ]
  },
  {
   "cell_type": "code",
   "execution_count": 5,
   "id": "68b01078",
   "metadata": {},
   "outputs": [],
   "source": [
    "y_pred = lin_svr.predict(X_test)"
   ]
  },
  {
   "cell_type": "code",
   "execution_count": 8,
   "id": "32245566",
   "metadata": {},
   "outputs": [
    {
     "data": {
      "text/plain": [
       "0.4841539298846815"
      ]
     },
     "execution_count": 8,
     "metadata": {},
     "output_type": "execute_result"
    }
   ],
   "source": [
    "mean_squared_error(log_target, y_pred)"
   ]
  }
 ],
 "metadata": {
  "kernelspec": {
   "display_name": "Python 3 (ipykernel)",
   "language": "python",
   "name": "python3"
  },
  "language_info": {
   "codemirror_mode": {
    "name": "ipython",
    "version": 3
   },
   "file_extension": ".py",
   "mimetype": "text/x-python",
   "name": "python",
   "nbconvert_exporter": "python",
   "pygments_lexer": "ipython3",
   "version": "3.9.12"
  }
 },
 "nbformat": 4,
 "nbformat_minor": 5
}
